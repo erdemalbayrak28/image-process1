{
 "cells": [
  {
   "cell_type": "markdown",
   "id": "185373d5",
   "metadata": {},
   "source": [
    "# UYG332 Image Processing Final Project\n",
    "\n",
    "**Prepared by:** _Your Name_  \n",
    "**Student ID:** _XXXXXXXX_"
   ]
  },
  {
   "cell_type": "markdown",
   "id": "083bc6ce",
   "metadata": {},
   "source": [
    "## Setup and Imports\n",
    "\n",
    "Ensure all provided images are in the same directory as this notebook (e.g., `/mnt/data/`)."
   ]
  },
  {
   "cell_type": "code",
   "execution_count": null,
   "id": "b61edb88",
   "metadata": {},
   "outputs": [],
   "source": [
    "import cv2\n",
    "import numpy as np\n",
    "import matplotlib.pyplot as plt\n",
    "import random\n",
    "\n",
    "plt.rcParams['figure.figsize'] = (6,6)\n",
    "\n",
    "def show(img, cmap=None, title=''):\n",
    "    plt.figure()\n",
    "    if cmap:\n",
    "        plt.imshow(img, cmap=cmap)\n",
    "    else:\n",
    "        plt.imshow(cv2.cvtColor(img, cv2.COLOR_BGR2RGB))\n",
    "    plt.title(title)\n",
    "    plt.axis('off')\n",
    "    plt.show()\n"
   ]
  },
  {
   "cell_type": "markdown",
   "id": "7fa00959",
   "metadata": {},
   "source": [
    "## Problem 1: Colour Patch on tf2_engineer.jpg\n",
    "**Tasks:**\n",
    "1. Read & display color image.\n",
    "2. Find centre & print intensity.\n",
    "3. Place 30×40 patch (#329ea8) around centre.\n",
    "4. Print intensity at centre of patch.\n",
    "5. Display result."
   ]
  },
  {
   "cell_type": "code",
   "execution_count": null,
   "id": "e23dbaf7",
   "metadata": {},
   "outputs": [],
   "source": [
    "# 1. Read and display\n",
    "img1 = cv2.imread('/mnt/data/tf2_engineer.jpg')\n",
    "show(img1, title='Original tf2_engineer.jpg')\n",
    "\n",
    "# 2. Centre & intensity\n",
    "h, w = img1.shape[:2]\n",
    "yc, xc = h//2, w//2\n",
    "print(f\"Centre: (y={yc}, x={xc}) -> Intensity (B,G,R):\", img1[yc, xc])\n",
    "\n",
    "# 3. Patch (#329ea8 -> BGR=(168,158,50))\n",
    "patch_color = (168,158,50)\n",
    "y1, y2 = yc-15, yc+15\n",
    "x1, x2 = xc-20, xc+20\n",
    "img1p = img1.copy()\n",
    "cv2.rectangle(img1p, (x1,y1), (x2,y2), patch_color, thickness=-1)\n",
    "\n",
    "# 4. Intensity at patch centre\n",
    "print(\"Patch centre intensity (B,G,R):\", img1p[yc, xc])\n",
    "\n",
    "# 5. Display patched image\n",
    "show(img1p, title='Patched Image')\n"
   ]
  },
  {
   "cell_type": "markdown",
   "id": "e0026416",
   "metadata": {},
   "source": [
    "## Problem 2: Negative of einstein.tiff\n",
    "**Tasks:**\n",
    "1. Read & display grayscale.\n",
    "2. Compute negative.\n",
    "3. Display negative.\n",
    "4. Print 5 random pixel values before/after."
   ]
  },
  {
   "cell_type": "code",
   "execution_count": null,
   "id": "43e01441",
   "metadata": {},
   "outputs": [],
   "source": [
    "# 1. Read & display\n",
    "img2 = cv2.imread('/mnt/data/einstein.png', cv2.IMREAD_GRAYSCALE)\n",
    "show(img2, cmap='gray', title='Einstein Original')\n",
    "\n",
    "# 2. Negative\n",
    "neg2 = 255 - img2\n",
    "\n",
    "# 3. Display negative\n",
    "show(neg2, cmap='gray', title='Einstein Negative')\n",
    "\n",
    "# 4. Sample 5 pixels\n",
    "coords = [(random.randint(0,img2.shape[0]-1),\n",
    "           random.randint(0,img2.shape[1]-1)) for _ in range(5)]\n",
    "print(\"Original -> Negative\")\n",
    "for y,x in coords:\n",
    "    print(f\"({y},{x}): {img2[y,x]} -> {neg2[y,x]}\")\n"
   ]
  },
  {
   "cell_type": "markdown",
   "id": "b6a99d66",
   "metadata": {},
   "source": [
    "## Problem 3: Log & Inverse Log on pout.tiff\n",
    "**Tasks:**\n",
    "1. Read & display grayscale.\n",
    "2. Log transform & display.\n",
    "3. Inverse log on original & display.\n",
    "4. Inverse log on log image & display.\n",
    "5. Comment on results."
   ]
  },
  {
   "cell_type": "code",
   "execution_count": null,
   "id": "2ac1ad9a",
   "metadata": {},
   "outputs": [],
   "source": [
    "# 1. Read & display\n",
    "img3 = cv2.imread('/mnt/data/pout.png', cv2.IMREAD_GRAYSCALE)\n",
    "show(img3, cmap='gray', title='pout.tiff Original')\n",
    "\n",
    "# 2. Log transform\n",
    "c = 255.0 / np.log(1 + img3.max())\n",
    "log_img = (c * np.log1p(img3)).astype(np.uint8)\n",
    "show(log_img, cmap='gray', title='Log Transform')\n",
    "\n",
    "# 3. Inverse log of original\n",
    "inv1 = (np.expm1(img3 / c)).clip(0,255).astype(np.uint8)\n",
    "show(inv1, cmap='gray', title='Inv-Log of Original')\n",
    "\n",
    "# 4. Inverse log of log image\n",
    "inv2 = (np.expm1(log_img / c)).clip(0,255).astype(np.uint8)\n",
    "show(inv2, cmap='gray', title='Inv-Log of Log Image')\n",
    "\n",
    "# 5. Comments\n",
    "print(\"Log enhances dark areas; inverse-log recovers original approximately.\")\n"
   ]
  },
  {
   "cell_type": "markdown",
   "id": "562de0ef",
   "metadata": {},
   "source": [
    "## Problem 4: Unsharp Masking on moon.tiff\n",
    "**Tasks:**\n",
    "1. Read & display grayscale.\n",
    "2. Spatial unsharp for k=0.2,0.5,1.0.\n",
    "3. Frequency unsharp same k values.\n",
    "4. Display results side by side."
   ]
  },
  {
   "cell_type": "code",
   "execution_count": null,
   "id": "0226d38a",
   "metadata": {},
   "outputs": [],
   "source": [
    "# Read and display\n",
    "img4 = cv2.imread('/mnt/data/moon.png', cv2.IMREAD_GRAYSCALE)\n",
    "show(img4, cmap='gray', title='moon.tiff Original')\n",
    "\n",
    "# Spatial unsharp\n",
    "blur = cv2.GaussianBlur(img4, (9,9), 0)\n",
    "mask = cv2.subtract(img4, blur)\n",
    "for k in [0.2, 0.5, 1.0]:\n",
    "    g_sp = cv2.addWeighted(img4, 1.0, mask, k, 0)\n",
    "    show(g_sp, cmap='gray', title=f'Spatial Unsharp k={k}')\n",
    "\n",
    "# Frequency unsharp\n",
    "dft = cv2.dft(np.float32(img4), flags=cv2.DFT_COMPLEX_OUTPUT)\n",
    "dft_shift = np.fft.fftshift(dft)\n",
    "rows, cols = img4.shape\n",
    "crow, ccol = rows//2, cols//2\n",
    "D0 = 30\n",
    "H = np.zeros((rows, cols), np.float32)\n",
    "for u in range(rows):\n",
    "    for v in range(cols):\n",
    "        D = np.hypot(u-crow, v-ccol)\n",
    "        H[u,v] = 1 - np.exp(-(D**2)/(2*D0**2))\n",
    "H = cv2.merge([H,H])\n",
    "for k in [0.2, 0.5, 1.0]:\n",
    "    G = (1 + k*H) * dft_shift\n",
    "    G_ishift = np.fft.ifftshift(G)\n",
    "    img_back = cv2.idft(G_ishift)\n",
    "    img_back = cv2.magnitude(img_back[:,:,0], img_back[:,:,1])\n",
    "    img_back = cv2.normalize(img_back, None, 0,255, cv2.NORM_MINMAX).astype(np.uint8)\n",
    "    show(img_back, cmap='gray', title=f'Freq Unsharp k={k}')\n"
   ]
  },
  {
   "cell_type": "markdown",
   "id": "5e716553",
   "metadata": {},
   "source": [
    "## Problem 5: Noise Removal on pcb.tiff\n",
    "**Tasks:**\n",
    "1. Read & display grayscale.\n",
    "2. Identify noise type.\n",
    "3. Remove noise with filtering.\n",
    "4. Display result."
   ]
  },
  {
   "cell_type": "code",
   "execution_count": null,
   "id": "d0284d8d",
   "metadata": {},
   "outputs": [],
   "source": [
    "# Read and display\n",
    "img5 = cv2.imread('/mnt/data/pcb.png', cv2.IMREAD_GRAYSCALE)\n",
    "show(img5, cmap='gray', title='pcb.tiff Original')\n",
    "\n",
    "# Histogram\n",
    "plt.figure()\n",
    "plt.hist(img5.ravel(), bins=256)\n",
    "plt.title('Histogram')\n",
    "plt.show()\n",
    "print(\"Noise: salt-and-pepper\")\n",
    "\n",
    "# Filtering\n",
    "den = cv2.medianBlur(img5, 5)\n",
    "den = cv2.GaussianBlur(den, (5,5), 0)\n",
    "show(den, cmap='gray', title='Denoised PCB')\n"
   ]
  },
  {
   "cell_type": "markdown",
   "id": "128eef43",
   "metadata": {},
   "source": [
    "## Problem 6: Enhancement of pollen.tiff\n",
    "**Tasks:**\n",
    "1. Read & display grayscale.\n",
    "2. Comment on problem.\n",
    "3. Two approaches (homomorphic, CLAHE).\n",
    "4. Display & justify."
   ]
  },
  {
   "cell_type": "code",
   "execution_count": null,
   "id": "31aebe9b",
   "metadata": {},
   "outputs": [],
   "source": [
    "# Read & display\n",
    "img6 = cv2.imread('/mnt/data/pollen.png', cv2.IMREAD_GRAYSCALE)\n",
    "show(img6, cmap='gray', title='pollen.tiff Original')\n",
    "\n",
    "print(\"Issue: uneven illumination & low contrast\")\n",
    "\n",
    "# Approach A: Homomorphic\n",
    "log_img = np.log1p(np.float32(img6))\n",
    "fft = np.fft.fft2(log_img)\n",
    "fft_shift = np.fft.fftshift(fft)\n",
    "rows, cols = img6.shape\n",
    "crow, ccol = rows//2, cols//2\n",
    "sigma = 30\n",
    "Hh = np.zeros((rows,cols), np.float32)\n",
    "for u in range(rows):\n",
    "    for v in range(cols):\n",
    "        D = np.hypot(u-crow, v-ccol)\n",
    "        Hh[u,v] = 1 - np.exp(-(D**2)/(2*sigma**2))\n",
    "filtered = Hh * fft_shift\n",
    "ifft_shift = np.fft.ifftshift(filtered)\n",
    "img_hom = np.fft.ifft2(ifft_shift)\n",
    "img_hom = np.expm1(np.real(img_hom))\n",
    "img_hom = cv2.normalize(img_hom, None, 0,255, cv2.NORM_MINMAX).astype(np.uint8)\n",
    "show(img_hom, cmap='gray', title='Homomorphic')\n",
    "\n",
    "# Approach B: CLAHE\n",
    "clahe = cv2.createCLAHE(clipLimit=2.0, tileGridSize=(8,8))\n",
    "img_clahe = clahe.apply(img6)\n",
    "show(img_clahe, cmap='gray', title='CLAHE')\n",
    "print(\"Homomorphic fixes shading; CLAHE improves local contrast\")\n"
   ]
  }
 ],
 "metadata": {},
 "nbformat": 4,
 "nbformat_minor": 5
}
